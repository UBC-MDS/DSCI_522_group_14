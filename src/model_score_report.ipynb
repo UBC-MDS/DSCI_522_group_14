{
 "cells": [
  {
   "cell_type": "code",
   "execution_count": 1,
   "id": "37cafa00-ed96-40a3-ae1e-952c16ca0a0b",
   "metadata": {},
   "outputs": [],
   "source": [
    "import pandas as pd\n",
    "import numpy as np\n",
    "import os\n",
    "import string\n",
    "import pickle\n",
    "\n",
    "from sklearn.compose import make_column_transformer\n",
    "from sklearn.dummy import DummyClassifier\n",
    "from sklearn.ensemble import RandomForestClassifier\n",
    "from sklearn.feature_extraction.text import CountVectorizer\n",
    "from sklearn.linear_model import LogisticRegression\n",
    "from sklearn.metrics import make_scorer, f1_score, SCORERS\n",
    "from sklearn.model_selection import (\n",
    "    RandomizedSearchCV,\n",
    "    cross_validate,\n",
    "    train_test_split,\n",
    ")\n",
    "from sklearn.pipeline import make_pipeline\n",
    "from sklearn.preprocessing import (\n",
    "    OneHotEncoder,\n",
    "    OrdinalEncoder,\n",
    ")\n",
    "from sklearn.svm import SVC\n",
    "from sklearn.naive_bayes import MultinomialNB"
   ]
  },
  {
   "cell_type": "code",
   "execution_count": 2,
   "id": "388ba289-1d1b-483d-922e-93b5e16bd8b0",
   "metadata": {},
   "outputs": [],
   "source": [
    "best_model = pickle.load(open(\"../results/final_rf_model.pickle\", 'rb'))"
   ]
  },
  {
   "cell_type": "code",
   "execution_count": 5,
   "id": "fb946a56-010b-458c-9d8e-9aebeb57a22a",
   "metadata": {},
   "outputs": [
    {
     "data": {
      "text/html": [
       "<div>\n",
       "<style scoped>\n",
       "    .dataframe tbody tr th:only-of-type {\n",
       "        vertical-align: middle;\n",
       "    }\n",
       "\n",
       "    .dataframe tbody tr th {\n",
       "        vertical-align: top;\n",
       "    }\n",
       "\n",
       "    .dataframe thead th {\n",
       "        text-align: right;\n",
       "    }\n",
       "</style>\n",
       "<table border=\"1\" class=\"dataframe\">\n",
       "  <thead>\n",
       "    <tr style=\"text-align: right;\">\n",
       "      <th></th>\n",
       "      <th>fiscal_year</th>\n",
       "      <th>organization_name</th>\n",
       "      <th>project_name</th>\n",
       "      <th>city</th>\n",
       "      <th>province</th>\n",
       "      <th>region</th>\n",
       "      <th>community_type</th>\n",
       "      <th>grant_or_contribution</th>\n",
       "      <th>presenter_type</th>\n",
       "      <th>project_sub_type</th>\n",
       "      <th>...</th>\n",
       "      <th>Heritage Centre/Site</th>\n",
       "      <th>Literature</th>\n",
       "      <th>Media Art</th>\n",
       "      <th>Music</th>\n",
       "      <th>Other</th>\n",
       "      <th>Performance Art</th>\n",
       "      <th>Storytelling</th>\n",
       "      <th>Theatre</th>\n",
       "      <th>Variety</th>\n",
       "      <th>Visual Arts</th>\n",
       "    </tr>\n",
       "  </thead>\n",
       "  <tbody>\n",
       "    <tr>\n",
       "      <th>0</th>\n",
       "      <td>2017-2018</td>\n",
       "      <td>Queer City Cinema Inc.</td>\n",
       "      <td>Performatorium 2017</td>\n",
       "      <td>Regina</td>\n",
       "      <td>Saskatchewan</td>\n",
       "      <td>Prairies</td>\n",
       "      <td>Medium Urban</td>\n",
       "      <td>Contribution</td>\n",
       "      <td>Multidisciplinary</td>\n",
       "      <td>Programming</td>\n",
       "      <td>...</td>\n",
       "      <td>False</td>\n",
       "      <td>False</td>\n",
       "      <td>True</td>\n",
       "      <td>False</td>\n",
       "      <td>False</td>\n",
       "      <td>True</td>\n",
       "      <td>False</td>\n",
       "      <td>False</td>\n",
       "      <td>False</td>\n",
       "      <td>False</td>\n",
       "    </tr>\n",
       "  </tbody>\n",
       "</table>\n",
       "<p>1 rows × 30 columns</p>\n",
       "</div>"
      ],
      "text/plain": [
       "  fiscal_year       organization_name         project_name    city  \\\n",
       "0   2017-2018  Queer City Cinema Inc.  Performatorium 2017  Regina   \n",
       "\n",
       "       province    region community_type grant_or_contribution  \\\n",
       "0  Saskatchewan  Prairies   Medium Urban          Contribution   \n",
       "\n",
       "      presenter_type project_sub_type  ... Heritage Centre/Site  Literature  \\\n",
       "0  Multidisciplinary      Programming  ...                False       False   \n",
       "\n",
       "   Media Art  Music  Other  Performance Art  Storytelling  Theatre  Variety  \\\n",
       "0       True  False  False             True         False    False    False   \n",
       "\n",
       "   Visual Arts  \n",
       "0        False  \n",
       "\n",
       "[1 rows x 30 columns]"
      ]
     },
     "execution_count": 5,
     "metadata": {},
     "output_type": "execute_result"
    }
   ],
   "source": [
    "X_test_example = pd.read_csv(\"../results/example.csv\")\n",
    "X_test_example"
   ]
  },
  {
   "cell_type": "code",
   "execution_count": 6,
   "id": "83e92b30-314f-46ab-b13c-e09eafdfe651",
   "metadata": {},
   "outputs": [
    {
     "data": {
      "text/plain": [
       "array(['less than $8.0K'], dtype=object)"
      ]
     },
     "execution_count": 6,
     "metadata": {},
     "output_type": "execute_result"
    }
   ],
   "source": [
    "best_model.predict(X_test_example)"
   ]
  },
  {
   "cell_type": "code",
   "execution_count": null,
   "id": "d741ebea-a8ec-4568-8aa2-d699015cbc75",
   "metadata": {},
   "outputs": [],
   "source": []
  }
 ],
 "metadata": {
  "kernelspec": {
   "display_name": "Python [conda env:573]",
   "language": "python",
   "name": "conda-env-573-py"
  },
  "language_info": {
   "codemirror_mode": {
    "name": "ipython",
    "version": 3
   },
   "file_extension": ".py",
   "mimetype": "text/x-python",
   "name": "python",
   "nbconvert_exporter": "python",
   "pygments_lexer": "ipython3",
   "version": "3.9.7"
  }
 },
 "nbformat": 4,
 "nbformat_minor": 5
}
