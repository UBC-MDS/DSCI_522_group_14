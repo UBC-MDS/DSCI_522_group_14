{
 "cells": [
  {
   "cell_type": "code",
   "execution_count": 1,
   "id": "37cafa00-ed96-40a3-ae1e-952c16ca0a0b",
   "metadata": {},
   "outputs": [],
   "source": [
    "import pandas as pd\n",
    "import numpy as np\n",
    "import os\n",
    "import string\n",
    "import pickle\n",
    "\n",
    "from sklearn.compose import make_column_transformer\n",
    "from sklearn.dummy import DummyClassifier\n",
    "from sklearn.ensemble import RandomForestClassifier\n",
    "from sklearn.feature_extraction.text import CountVectorizer\n",
    "from sklearn.linear_model import LogisticRegression\n",
    "from sklearn.metrics import make_scorer, f1_score, SCORERS, classification_report\n",
    "from sklearn.model_selection import (\n",
    "    RandomizedSearchCV,\n",
    "    cross_validate,\n",
    "    train_test_split,\n",
    ")\n",
    "from sklearn.pipeline import make_pipeline\n",
    "from sklearn.preprocessing import (\n",
    "    OneHotEncoder,\n",
    "    OrdinalEncoder,\n",
    ")\n",
    "from sklearn.svm import SVC\n",
    "from sklearn.naive_bayes import MultinomialNB"
   ]
  },
  {
   "cell_type": "code",
   "execution_count": 2,
   "id": "388ba289-1d1b-483d-922e-93b5e16bd8b0",
   "metadata": {},
   "outputs": [],
   "source": [
    "# best_model = pickle.load(open(\"../results/final_rf_model.pickle\", 'rb'))"
   ]
  },
  {
   "cell_type": "code",
   "execution_count": 3,
   "id": "fb946a56-010b-458c-9d8e-9aebeb57a22a",
   "metadata": {},
   "outputs": [
    {
     "data": {
      "text/plain": [
       "Index(['fiscal_year', 'organization_name', 'project_name', 'city', 'province',\n",
       "       'region', 'community_type', 'grant_or_contribution', 'presenter_type',\n",
       "       'project_sub_type', 'project_type', 'Cultural Diversity',\n",
       "       'Young Audience', 'Indigenous Communities',\n",
       "       'Official Language Minority', 'Rural or Remote Regions', 'Cinema',\n",
       "       'Circus', 'Comedy', 'Dance', 'Heritage Centre/Site', 'Literature',\n",
       "       'Media Art', 'Music', 'Other', 'Performance Art', 'Storytelling',\n",
       "       'Theatre', 'Variety', 'Visual Arts'],\n",
       "      dtype='object')"
      ]
     },
     "execution_count": 3,
     "metadata": {},
     "output_type": "execute_result"
    }
   ],
   "source": [
    "X_test_example = pd.read_csv(\"../results/example.csv\")\n",
    "X_test_example.columns"
   ]
  },
  {
   "cell_type": "code",
   "execution_count": 4,
   "id": "83e92b30-314f-46ab-b13c-e09eafdfe651",
   "metadata": {},
   "outputs": [],
   "source": [
    "# best_model.predict(X_test_example)"
   ]
  },
  {
   "cell_type": "code",
   "execution_count": 5,
   "id": "0a2da0fa-08a7-4858-a57a-34b2ad134fd8",
   "metadata": {},
   "outputs": [],
   "source": [
    "train_data = pd.read_csv(\"../data/processed/heritage_train.csv\")\n",
    "X_train = train_data.drop(columns=[\"amount_category\", \"amount_approved\", \"audiences_none\"])\n",
    "y_train = train_data[\"amount_category\"]"
   ]
  },
  {
   "cell_type": "code",
   "execution_count": 6,
   "id": "53a63138-bb87-4ee9-b4cc-3792ecb90088",
   "metadata": {},
   "outputs": [
    {
     "data": {
      "text/plain": [
       "Index(['fiscal_year', 'organization_name', 'project_name', 'city', 'province',\n",
       "       'region', 'community_type', 'grant_or_contribution', 'presenter_type',\n",
       "       'project_sub_type', 'project_type', 'disciplines_music',\n",
       "       'disciplines_dance', 'disciplines_media_art', 'disciplines_theatre',\n",
       "       'disciplines_literature', 'disciplines_visual_arts',\n",
       "       'disciplines_circus', 'disciplines_storytelling', 'disciplines_comedy',\n",
       "       'disciplines_other', 'disciplines_performance_art',\n",
       "       'disciplines_variety', 'disciplines_cinema',\n",
       "       'disciplines_heritage_centre/site', 'audiences_young_audience',\n",
       "       'audiences_official_language_minority', 'audiences_cultural_diversity',\n",
       "       'audiences_indigenous_communities',\n",
       "       'audiences_rural_or_remote_regions'],\n",
       "      dtype='object')"
      ]
     },
     "execution_count": 6,
     "metadata": {},
     "output_type": "execute_result"
    }
   ],
   "source": [
    "X_train.columns"
   ]
  },
  {
   "cell_type": "code",
   "execution_count": 7,
   "id": "70118bfa-0f8d-4ed7-be01-c4469190c56a",
   "metadata": {},
   "outputs": [],
   "source": [
    "test_data = pd.read_csv(\"../data/processed/heritage_test.csv\")\n",
    "X_test = test_data.drop(columns=[\"amount_category\", \"amount_approved\", \"audiences_none\"])\n",
    "y_test = test_data[\"amount_category\"]"
   ]
  },
  {
   "cell_type": "code",
   "execution_count": 8,
   "id": "39b6033a-4acf-4c52-b28b-72744ef2ad13",
   "metadata": {},
   "outputs": [],
   "source": [
    "# Selecting Feature Categories\n",
    "\n",
    "drop_feature = [\n",
    "    \"fiscal_year\",\n",
    "    \"region\",\n",
    "    \"organization_name\"\n",
    "]  # droping region as provice is already an indicator of region\n",
    "text_countvec = \"project_name\"\n",
    "categorical_ohe = [\"city\", \"province\", \"project_type\"]\n",
    "binary = [\n",
    "    \"grant_or_contribution\",\n",
    "    \"presenter_type\",\n",
    "    \"project_sub_type\",\n",
    "    \"audiences_cultural_diversity\",\n",
    "    \"audiences_young_audience\",\n",
    "    \"audiences_indigenous_communities\",\n",
    "    \"audiences_official_language_minority\",\n",
    "    \"audiences_rural_or_remote_regions\",\n",
    "    \"disciplines_cinema\",\n",
    "    \"disciplines_circus\",\n",
    "    \"disciplines_comedy\",\n",
    "    \"disciplines_dance\",\n",
    "    \"disciplines_heritage_centre/site\",\n",
    "    \"disciplines_literature\",\n",
    "    \"disciplines_visual_arts\",\n",
    "    \"disciplines_media_art\",\n",
    "    \"disciplines_music\",\n",
    "    \"disciplines_other\",\n",
    "    \"disciplines_performance_art\",\n",
    "    \"disciplines_storytelling\",\n",
    "    \"disciplines_theatre\",\n",
    "    \"disciplines_variety\"\n",
    "]\n",
    "\n",
    "ordinal = [\"community_type\"]\n",
    "Community_order = [[\"Remote\", \"Rural\", \"Small Urban\", \"Medium Urban\", \"Large Urban\"]]"
   ]
  },
  {
   "cell_type": "code",
   "execution_count": 9,
   "id": "0e905e77-dd37-4013-a39a-6e73beb05965",
   "metadata": {},
   "outputs": [],
   "source": [
    "# Setting Column Transformers\n",
    "\n",
    "preprocessor = make_column_transformer(\n",
    "    (CountVectorizer(max_features=800, stop_words=\"english\"), text_countvec),\n",
    "    (\n",
    "        OneHotEncoder(\n",
    "            handle_unknown=\"ignore\",\n",
    "        ),\n",
    "        categorical_ohe,\n",
    "    ),\n",
    "    (OneHotEncoder(drop=\"if_binary\", handle_unknown=\"ignore\"), binary),\n",
    "    (\n",
    "        OrdinalEncoder(\n",
    "            categories=Community_order,\n",
    "        ),\n",
    "        ordinal,\n",
    "    ),\n",
    "    (\"drop\", drop_feature),\n",
    ")"
   ]
  },
  {
   "cell_type": "code",
   "execution_count": 10,
   "id": "f0f387dd-46fc-4c55-b4aa-c389f563a52c",
   "metadata": {},
   "outputs": [],
   "source": [
    "best_model = make_pipeline(preprocessor, RandomForestClassifier(max_features='auto', max_depth=30, class_weight='balanced'))"
   ]
  },
  {
   "cell_type": "code",
   "execution_count": 11,
   "id": "8ab75a13-07a5-4ae3-b856-6270b64b17ce",
   "metadata": {},
   "outputs": [
    {
     "data": {
      "text/plain": [
       "Pipeline(steps=[('columntransformer',\n",
       "                 ColumnTransformer(transformers=[('countvectorizer',\n",
       "                                                  CountVectorizer(max_features=800,\n",
       "                                                                  stop_words='english'),\n",
       "                                                  'project_name'),\n",
       "                                                 ('onehotencoder-1',\n",
       "                                                  OneHotEncoder(handle_unknown='ignore'),\n",
       "                                                  ['city', 'province',\n",
       "                                                   'project_type']),\n",
       "                                                 ('onehotencoder-2',\n",
       "                                                  OneHotEncoder(drop='if_binary',\n",
       "                                                                handle_unknown='ignore'),\n",
       "                                                  ['grant_or_contributio...\n",
       "                                                   'disciplines_storytelling',\n",
       "                                                   'disciplines_theatre',\n",
       "                                                   'disciplines_variety']),\n",
       "                                                 ('ordinalencoder',\n",
       "                                                  OrdinalEncoder(categories=[['Remote',\n",
       "                                                                              'Rural',\n",
       "                                                                              'Small '\n",
       "                                                                              'Urban',\n",
       "                                                                              'Medium '\n",
       "                                                                              'Urban',\n",
       "                                                                              'Large '\n",
       "                                                                              'Urban']]),\n",
       "                                                  ['community_type']),\n",
       "                                                 ('drop', 'drop',\n",
       "                                                  ['fiscal_year', 'region',\n",
       "                                                   'organization_name'])])),\n",
       "                ('randomforestclassifier',\n",
       "                 RandomForestClassifier(class_weight='balanced',\n",
       "                                        max_depth=30))])"
      ]
     },
     "execution_count": 11,
     "metadata": {},
     "output_type": "execute_result"
    }
   ],
   "source": [
    "best_model.fit(X_train, y_train)"
   ]
  },
  {
   "cell_type": "code",
   "execution_count": 12,
   "id": "d741ebea-a8ec-4568-8aa2-d699015cbc75",
   "metadata": {},
   "outputs": [],
   "source": [
    "y_predict = best_model.predict(X_test)\n",
    "model_quality = pd.DataFrame(classification_report(y_test, y_predict, output_dict=True)).T"
   ]
  },
  {
   "cell_type": "code",
   "execution_count": 13,
   "id": "5b6a9c83-b057-4454-bdd2-13765ca8a07f",
   "metadata": {},
   "outputs": [
    {
     "data": {
      "text/html": [
       "<div>\n",
       "<style scoped>\n",
       "    .dataframe tbody tr th:only-of-type {\n",
       "        vertical-align: middle;\n",
       "    }\n",
       "\n",
       "    .dataframe tbody tr th {\n",
       "        vertical-align: top;\n",
       "    }\n",
       "\n",
       "    .dataframe thead th {\n",
       "        text-align: right;\n",
       "    }\n",
       "</style>\n",
       "<table border=\"1\" class=\"dataframe\">\n",
       "  <thead>\n",
       "    <tr style=\"text-align: right;\">\n",
       "      <th></th>\n",
       "      <th>precision</th>\n",
       "      <th>recall</th>\n",
       "      <th>f1-score</th>\n",
       "      <th>support</th>\n",
       "    </tr>\n",
       "  </thead>\n",
       "  <tbody>\n",
       "    <tr>\n",
       "      <th>$12.0K</th>\n",
       "      <td>0.666667</td>\n",
       "      <td>0.600000</td>\n",
       "      <td>0.631579</td>\n",
       "      <td>70.000000</td>\n",
       "    </tr>\n",
       "    <tr>\n",
       "      <th>$23.0K</th>\n",
       "      <td>0.621212</td>\n",
       "      <td>0.650794</td>\n",
       "      <td>0.635659</td>\n",
       "      <td>63.000000</td>\n",
       "    </tr>\n",
       "    <tr>\n",
       "      <th>$50.0K</th>\n",
       "      <td>0.868852</td>\n",
       "      <td>0.815385</td>\n",
       "      <td>0.841270</td>\n",
       "      <td>65.000000</td>\n",
       "    </tr>\n",
       "    <tr>\n",
       "      <th>$8.0K</th>\n",
       "      <td>0.647059</td>\n",
       "      <td>0.804878</td>\n",
       "      <td>0.717391</td>\n",
       "      <td>41.000000</td>\n",
       "    </tr>\n",
       "    <tr>\n",
       "      <th>less than $8.0K</th>\n",
       "      <td>0.806452</td>\n",
       "      <td>0.757576</td>\n",
       "      <td>0.781250</td>\n",
       "      <td>33.000000</td>\n",
       "    </tr>\n",
       "    <tr>\n",
       "      <th>accuracy</th>\n",
       "      <td>0.713235</td>\n",
       "      <td>0.713235</td>\n",
       "      <td>0.713235</td>\n",
       "      <td>0.713235</td>\n",
       "    </tr>\n",
       "    <tr>\n",
       "      <th>macro avg</th>\n",
       "      <td>0.722048</td>\n",
       "      <td>0.725726</td>\n",
       "      <td>0.721430</td>\n",
       "      <td>272.000000</td>\n",
       "    </tr>\n",
       "    <tr>\n",
       "      <th>weighted avg</th>\n",
       "      <td>0.718459</td>\n",
       "      <td>0.713235</td>\n",
       "      <td>0.713727</td>\n",
       "      <td>272.000000</td>\n",
       "    </tr>\n",
       "  </tbody>\n",
       "</table>\n",
       "</div>"
      ],
      "text/plain": [
       "                 precision    recall  f1-score     support\n",
       "$12.0K            0.666667  0.600000  0.631579   70.000000\n",
       "$23.0K            0.621212  0.650794  0.635659   63.000000\n",
       "$50.0K            0.868852  0.815385  0.841270   65.000000\n",
       "$8.0K             0.647059  0.804878  0.717391   41.000000\n",
       "less than $8.0K   0.806452  0.757576  0.781250   33.000000\n",
       "accuracy          0.713235  0.713235  0.713235    0.713235\n",
       "macro avg         0.722048  0.725726  0.721430  272.000000\n",
       "weighted avg      0.718459  0.713235  0.713727  272.000000"
      ]
     },
     "execution_count": 13,
     "metadata": {},
     "output_type": "execute_result"
    }
   ],
   "source": [
    "model_quality"
   ]
  },
  {
   "cell_type": "code",
   "execution_count": null,
   "id": "f395fbbc-6b28-4237-a235-938215a6a286",
   "metadata": {},
   "outputs": [],
   "source": []
  },
  {
   "cell_type": "code",
   "execution_count": null,
   "id": "3ed8aeb4-ba24-4b72-afde-80dffeccd189",
   "metadata": {},
   "outputs": [],
   "source": []
  }
 ],
 "metadata": {
  "kernelspec": {
   "display_name": "Python [conda env:573]",
   "language": "python",
   "name": "conda-env-573-py"
  },
  "language_info": {
   "codemirror_mode": {
    "name": "ipython",
    "version": 3
   },
   "file_extension": ".py",
   "mimetype": "text/x-python",
   "name": "python",
   "nbconvert_exporter": "python",
   "pygments_lexer": "ipython3",
   "version": "3.9.7"
  }
 },
 "nbformat": 4,
 "nbformat_minor": 5
}
